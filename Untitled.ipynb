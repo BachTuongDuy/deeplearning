{
 "cells": [
  {
   "cell_type": "code",
   "execution_count": 6,
   "metadata": {},
   "outputs": [
    {
     "name": "stdout",
     "output_type": "stream",
     "text": [
      "[2, 4, 6]\n"
     ]
    }
   ],
   "source": [
    "x=[1, 2, 3]\n",
    "w=2\n",
    "def loss(x,w):\n",
    "    return [a*w for a in x ]\n",
    "print(loss(x,w))\n",
    "\n"
   ]
  },
  {
   "cell_type": "code",
   "execution_count": 20,
   "metadata": {},
   "outputs": [
    {
     "name": "stdout",
     "output_type": "stream",
     "text": [
      "[1, 2, 3] 2 [1, 2, 3]\n"
     ]
    }
   ],
   "source": [
    "y =[1, 2, 3]\n",
    "x =[1,2,3]\n",
    "w =2\n",
    "def loss1(x,w,y):\n",
    "    \n",
    "    return [((loss(x,w)-y)**2) for x in x for y in y]\n",
    "print(x,w,y)\n",
    "\n",
    "\n",
    "\n"
   ]
  }
 ],
 "metadata": {
  "kernelspec": {
   "display_name": "Python 3",
   "language": "python",
   "name": "python3"
  },
  "language_info": {
   "codemirror_mode": {
    "name": "ipython",
    "version": 3
   },
   "file_extension": ".py",
   "mimetype": "text/x-python",
   "name": "python",
   "nbconvert_exporter": "python",
   "pygments_lexer": "ipython3",
   "version": "3.5.2"
  }
 },
 "nbformat": 4,
 "nbformat_minor": 2
}
